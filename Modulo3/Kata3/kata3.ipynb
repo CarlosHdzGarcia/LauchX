{
 "cells": [
  {
   "cell_type": "markdown",
   "metadata": {},
   "source": [
    "## kata 3 \n",
    "codigos para la kata 3"
   ]
  },
  {
   "cell_type": "code",
   "execution_count": 19,
   "metadata": {},
   "outputs": [
    {
     "name": "stdout",
     "output_type": "stream",
     "text": [
      "B 3 es mayor que A 2 pero menor que C25\n"
     ]
    }
   ],
   "source": [
    "a =input('Ingresa tu primer numero A')\n",
    "b= input('íngresa tu segundo numero B')\n",
    "c= input('Ingresa tu tercer numero C')\n",
    "\n",
    "a=int(a)\n",
    "b=int(b)\n",
    "c=int(c)\n",
    "\n",
    "if a > b:\n",
    "    if a > c:\n",
    "        print('A '+ str(a) +' es mayor que '+ 'B ' + str(b) + '  mayor que C'+ str(c))\n",
    "    elif a < c:\n",
    "        print('A '+ str(a) +' es mayor que '+ 'B ' + str(b) + '  pero menor que C'+ str(c))\n",
    "    else:\n",
    "        print('A '+ str(a) +' es mayor que '+ 'B ' + str(b) + '  pero A es igual a C '+ str(c))\n",
    "\n",
    "elif a < b:\n",
    "    if b > c:\n",
    "        print('B '+ str(b) +' es mayor que '+ 'A ' + str(a) + ' mayor que C  '+ str(c))\n",
    "    elif b < c:\n",
    "         print('B '+ str(b) +' es mayor que '+ 'A ' + str(a) + ' pero menor que C  '+ str(c))\n",
    "    else:\n",
    "        print('B '+ str(b) +' es mayor que '+ 'A ' + str(a) + '  pero A es igual a C '+ str(c))\n",
    "\n",
    "else:\n",
    "    print('los tres numeros son iguales')\n",
    "\n",
    "\n"
   ]
  },
  {
   "cell_type": "markdown",
   "metadata": {},
   "source": [
    "## Alerta de Asteroide 49 Km/s\n",
    "logica de alerta para un asteroide"
   ]
  },
  {
   "cell_type": "code",
   "execution_count": 22,
   "metadata": {},
   "outputs": [
    {
     "name": "stdout",
     "output_type": "stream",
     "text": [
      "Sistema de alerta para asteroides\n",
      "La alerta sera emitida si un Asteroide\n",
      "Supera los 25 Km/s\n",
      "El asteroide no representa peligro alguno\n"
     ]
    }
   ],
   "source": [
    "print('Sistema de alerta para asteroides')\n",
    "print('La alerta sera emitida si un Asteroide')\n",
    "print('Supera los 25 Km/s')\n",
    "\n",
    "alert=25\n",
    "velAsteroide= input('Ingresa la velocidad con la que viaja el asteroide')\n",
    "velAsteroide=float(velAsteroide)\n",
    "\n",
    "if velAsteroide > alert:\n",
    "    print('ALERTA DE ASTEROIDE VELOCIDAD DE '+ str(velAsteroide)+ ' km/s')\n",
    "else:\n",
    "    print('El asteroide no representa peligro alguno')"
   ]
  },
  {
   "cell_type": "markdown",
   "metadata": {},
   "source": [
    "## Alerta de Asteroide 19km/s"
   ]
  },
  {
   "cell_type": "code",
   "execution_count": 25,
   "metadata": {},
   "outputs": [
    {
     "name": "stdout",
     "output_type": "stream",
     "text": [
      "Cuando un asteroide viaja a 20km/s o mayor\n",
      "se puede aprecias una luz en el cielo \n",
      "Mira al cielo, se ve una Luz\n"
     ]
    }
   ],
   "source": [
    "print('Cuando un asteroide viaja a 20km/s o mayor')\n",
    "print('se puede aprecias una luz en el cielo ')\n",
    "\n",
    "vel=float(input('Ingresa la velocidad del asteroide'))\n",
    "luz=20\n",
    "\n",
    "if vel > luz:\n",
    "    print('Mira al cielo, se ve una Luz')\n",
    "elif vel == luz:\n",
    "    print('Voltea al cielo, Se ve un ligero destello')\n",
    "else:\n",
    "    print('No se puede ver nada')"
   ]
  },
  {
   "cell_type": "markdown",
   "metadata": {},
   "source": [
    "## And y Or con if"
   ]
  },
  {
   "cell_type": "code",
   "execution_count": 3,
   "metadata": {},
   "outputs": [
    {
     "name": "stdout",
     "output_type": "stream",
     "text": [
      "Sistema de Alerta para Asteroides\n",
      "Asteroide del tamaño: 105.0 Con velocidad: 20.0\n",
      "Se ve un Destello en el cielo\n",
      "No hay peligro\n"
     ]
    }
   ],
   "source": [
    "print('Sistema de Alerta para Asteroides')\n",
    "\n",
    "tam=float(input('Ingresa el tamaño de Asteroide'))\n",
    "vel=float(input('Ingresa la Velocidad del Asteroide'))\n",
    "print('Asteroide del tamaño: '+str(tam)+' Con velocidad: ' + str(vel))\n",
    "\n",
    "if tam > 25 and tam<1000:\n",
    "    if vel >= 20:\n",
    "        if vel >25:\n",
    "            print('Se ve un Destello en el cielo')\n",
    "            print('Alerta de Asteroide!!!!! En colicion')\n",
    "        else:\n",
    "            print('Se ve un Destello en el cielo')\n",
    "            print('No hay peligro')\n",
    "    else:\n",
    "        print('No se ve nada en el cielo')\n",
    "        print('no hay peligro')\n",
    "elif tam >= 1000 and vel > 25:\n",
    "    print('Alerta de Gran Peligro, destruccion total')\n",
    "else:\n",
    "    if vel >= 20:\n",
    "        print('Se ve un Destello en el cielo')\n",
    "        print('No representa peligro')\n",
    "    else:\n",
    "        print('No hay nada en el cielo')\n",
    "        print('No hay peligro, Buen dia')\n",
    "        \n",
    "        \n",
    "\n",
    "\n"
   ]
  }
 ],
 "metadata": {
  "interpreter": {
   "hash": "7416b97ec5aeeae7ea477d87e666c119691ff3bb3b08f2029080031993dbd57d"
  },
  "kernelspec": {
   "display_name": "Python 3.10.2 64-bit",
   "language": "python",
   "name": "python3"
  },
  "language_info": {
   "codemirror_mode": {
    "name": "ipython",
    "version": 3
   },
   "file_extension": ".py",
   "mimetype": "text/x-python",
   "name": "python",
   "nbconvert_exporter": "python",
   "pygments_lexer": "ipython3",
   "version": "3.10.2"
  },
  "orig_nbformat": 4
 },
 "nbformat": 4,
 "nbformat_minor": 2
}
