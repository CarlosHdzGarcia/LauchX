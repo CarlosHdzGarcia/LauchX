{
 "cells": [
  {
   "cell_type": "markdown",
   "metadata": {},
   "source": [
    "## kata 1 programacion en Python\n"
   ]
  },
  {
   "cell_type": "code",
   "execution_count": 14,
   "metadata": {},
   "outputs": [
    {
     "name": "stdout",
     "output_type": "stream",
     "text": [
      "Today is: 2022-02-07\n"
     ]
    }
   ],
   "source": [
    "import datetime as data\n",
    "\n",
    "day= data.date.today()\n",
    "print('Today is: '+ str(day))"
   ]
  },
  {
   "cell_type": "markdown",
   "metadata": {},
   "source": [
    "## Convertidor de años luz"
   ]
  },
  {
   "cell_type": "code",
   "execution_count": 25,
   "metadata": {},
   "outputs": [
    {
     "name": "stdout",
     "output_type": "stream",
     "text": [
      "La cantidad de Años Luz es de: 35.877159999999996   Por  11 parce\n"
     ]
    }
   ],
   "source": [
    "## 1 parsec es 3.26156 años luz\n",
    "parsec =input('Ingresa la cantidad de años Parsec ')\n",
    "lightYear=3.26156\n",
    "\n",
    "conver= float(lightYear) * float(parsec)\n",
    "\n",
    "print('La cantidad de Años Luz es de: ' + str(conver) + '   Por  ' + str(parsec)+' parce' )"
   ]
  }
 ],
 "metadata": {
  "interpreter": {
   "hash": "7416b97ec5aeeae7ea477d87e666c119691ff3bb3b08f2029080031993dbd57d"
  },
  "kernelspec": {
   "display_name": "Python 3.10.2 64-bit",
   "language": "python",
   "name": "python3"
  },
  "language_info": {
   "codemirror_mode": {
    "name": "ipython",
    "version": 3
   },
   "file_extension": ".py",
   "mimetype": "text/x-python",
   "name": "python",
   "nbconvert_exporter": "python",
   "pygments_lexer": "ipython3",
   "version": "3.10.2"
  },
  "orig_nbformat": 4
 },
 "nbformat": 4,
 "nbformat_minor": 2
}
